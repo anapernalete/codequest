{
 "cells": [
  {
   "cell_type": "markdown",
   "id": "94d266ac-6733-4c73-b3bc-180e699efbda",
   "metadata": {},
   "source": [
    "### Use Case: Analyzing how sleep quality, stress level, and physical activity contribute to anxiety levels"
   ]
  },
  {
   "cell_type": "markdown",
   "id": "885b3425-0d65-451a-a485-480517ac4987",
   "metadata": {},
   "source": [
    "In this case, we want to determine how sleep quality, stress level, and physical activity contribute or influence anxiety levels in a group of participants. We can represent this problem with a system of linear equations.\n",
    "The system of ecuations is represented by:\n",
    "\n",
    "- 5𝑥1+3𝑥2−𝑥3=12 -> Equation 1\n",
    "- 2𝑥1+4𝑥2+2𝑥3=14 -> Equation 2\n",
    "- 3𝑥1+2𝑥2+5𝑥3=16 ->Equation 3\n",
    "\n",
    "Where:\n",
    "\n",
    "- 𝑥1= Impact of sleep quality on anxiety.\n",
    "- 𝑥2= Impact of stress level on anxiety.\n",
    "- 𝑥3= Impact of physical activity on anxiety."
   ]
  },
  {
   "cell_type": "code",
   "execution_count": 3,
   "id": "0418a7a0-7bd4-4ffc-bdc6-bf0e3178ff7b",
   "metadata": {},
   "outputs": [
    {
     "name": "stdout",
     "output_type": "stream",
     "text": [
      "Contributions to anxiety levels:\n",
      "Impact of Sleep Quality (x1) = 1.50\n",
      "Impact of Stress Level (x2) = 2.00\n",
      "Impact of Physical Activity (x3) = 1.50\n"
     ]
    }
   ],
   "source": [
    "# Imports and libraries\n",
    "import numpy as np\n",
    "\n",
    "def gaussian_elimination(A, b):\n",
    "    n = len(b)\n",
    "    # Forward elimination\n",
    "    for i in range(n):\n",
    "        # Partial pivoting\n",
    "        max_row = max(range(i, n), key=lambda r: abs(A[r][i]))\n",
    "        A[i], A[max_row] = A[max_row], A[i]\n",
    "        b[i], b[max_row] = b[max_row], b[i]\n",
    "        \n",
    "        # Make the diagonal element 1 and eliminate below\n",
    "        for j in range(i+1, n):\n",
    "            factor = A[j][i] / A[i][i]\n",
    "            for k in range(i, n):\n",
    "                A[j][k] -= factor * A[i][k]\n",
    "            b[j] -= factor * b[i]\n",
    "    \n",
    "    # Back substitution\n",
    "    x = np.zeros(n)\n",
    "    for i in range(n-1, -1, -1):\n",
    "        x[i] = (b[i] - sum(A[i][j] * x[j] for j in range(i+1, n))) / A[i][i]\n",
    "    \n",
    "    return x\n",
    "\n",
    "# Anxiety study data\n",
    "A = [[5, 3, -1], \n",
    "     [2, 4, 2], \n",
    "     [3, 2, 5]]\n",
    "\n",
    "b = [12, 14, 16]\n",
    "\n",
    "solution = gaussian_elimination(A, b)\n",
    "\n",
    "# Display results. Where:\n",
    "# 1. Impact of Sleep Quality (x1): This tells us how much sleep quality contributes to anxiety. A higher value means poor sleep significantly increases anxiety levels.\n",
    "# 2. Impact of Stress Level (x2): This coefficient represents the effect of stress on anxiety. A higher value indicates that stress is a major factor in increasing anxiety.\n",
    "# 3. Impact of Physical Activity (x3): This value shows the influence of physical activity on reducing anxiety. A higher value suggests that more physical activity helps to lower anxiety levels.\n",
    "\n",
    "print(f\"Contributions to anxiety levels:\")\n",
    "print(f\"Impact of Sleep Quality (x1) = {solution[0]:.2f}\")\n",
    "print(f\"Impact of Stress Level (x2) = {solution[1]:.2f}\")\n",
    "print(f\"Impact of Physical Activity (x3) = {solution[2]:.2f}\")"
   ]
  },
  {
   "cell_type": "code",
   "execution_count": null,
   "id": "294ae0a7-b210-4f2c-a08c-e6047522b691",
   "metadata": {},
   "outputs": [],
   "source": []
  }
 ],
 "metadata": {
  "kernelspec": {
   "display_name": "Python 3 (ipykernel)",
   "language": "python",
   "name": "python3"
  },
  "language_info": {
   "codemirror_mode": {
    "name": "ipython",
    "version": 3
   },
   "file_extension": ".py",
   "mimetype": "text/x-python",
   "name": "python",
   "nbconvert_exporter": "python",
   "pygments_lexer": "ipython3",
   "version": "3.12.7"
  }
 },
 "nbformat": 4,
 "nbformat_minor": 5
}
