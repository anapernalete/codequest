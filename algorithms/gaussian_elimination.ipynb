{
 "cells": [
  {
   "cell_type": "markdown",
   "id": "ef568678-a4b0-480a-ba44-44684bd7252e",
   "metadata": {},
   "source": [
    "## Gaussian Elimination"
   ]
  },
  {
   "cell_type": "markdown",
   "id": "7636f285-391e-47a4-b333-60da29920fe8",
   "metadata": {},
   "source": [
    "Gaussian Elimination is a foundational algorithm for solving systems of linear equations by transforming an augmented matrix into row-echelon form, thereby enabling the determination of variables."
   ]
  },
  {
   "cell_type": "markdown",
   "id": "0ef9b189-e463-4324-8633-019e9a7ed797",
   "metadata": {},
   "source": [
    "##### Imports and libraries"
   ]
  },
  {
   "cell_type": "code",
   "execution_count": 1,
   "id": "0d853e8f-9057-4e64-a2f9-1d778ac95992",
   "metadata": {},
   "outputs": [],
   "source": [
    "import numpy as np"
   ]
  },
  {
   "cell_type": "code",
   "execution_count": 2,
   "id": "61051865-6d10-4f0f-94e0-194fd2248179",
   "metadata": {},
   "outputs": [],
   "source": [
    "def swap_rows(M, row_index_1, row_index_2):\n",
    "    \"\"\"\n",
    "    Swap rows in the given matrix.\n",
    "\n",
    "    Parameters:\n",
    "    - matrix (numpy.array): The input matrix to perform row swaps on.\n",
    "    - row_index_1 (int): Index of the first row to be swapped.\n",
    "    - row_index_2 (int): Index of the second row to be swapped.\n",
    "    \"\"\"\n",
    "\n",
    "    # Copy matrix M so the changes do not affect the original matrix. \n",
    "    M = M.copy()\n",
    "    # Swap indexes\n",
    "    M[[row_index_1, row_index_2]] = M[[row_index_2, row_index_1]]\n",
    "    return M"
   ]
  },
  {
   "cell_type": "code",
   "execution_count": 4,
   "id": "61970365-c4e0-4e26-b166-d1a0e458e30c",
   "metadata": {},
   "outputs": [
    {
     "name": "stdout",
     "output_type": "stream",
     "text": [
      "[[ 1  3  6]\n",
      " [ 0 -5  2]\n",
      " [-4  5  8]]\n"
     ]
    }
   ],
   "source": [
    "# For example:\n",
    "M = np.array([\n",
    "[1, 3, 6],\n",
    "[0, -5, 2],\n",
    "[-4, 5, 8]\n",
    "])\n",
    "print(M)"
   ]
  },
  {
   "cell_type": "code",
   "execution_count": 5,
   "id": "48052ed9-ca5b-4753-9a21-7bbc7d1d80be",
   "metadata": {},
   "outputs": [
    {
     "name": "stdout",
     "output_type": "stream",
     "text": [
      "[[-4  5  8]\n",
      " [ 0 -5  2]\n",
      " [ 1  3  6]]\n"
     ]
    }
   ],
   "source": [
    "# And swapping row 0 with row 2:\n",
    "M_swapped = swap_rows(M, 0, 2)\n",
    "print(M_swapped)"
   ]
  },
  {
   "cell_type": "markdown",
   "id": "3fd0d38a-df48-4756-9a9b-366209c3a569",
   "metadata": {},
   "source": [
    "Now let's create a function that finds the first non-zero value in a column starting from a specific value"
   ]
  },
  {
   "cell_type": "code",
   "execution_count": 6,
   "id": "647913c4-a0e1-4905-aadf-13ba0b1711d5",
   "metadata": {},
   "outputs": [],
   "source": [
    "def get_index_first_non_zero_value_from_column(M, column, starting_row):\n",
    "    \"\"\"\n",
    "    Retrieve the index of the first non-zero value in a specified column of the given matrix.\n",
    "\n",
    "    Parameters:\n",
    "    - matrix (numpy.array): The input matrix to search for non-zero values.\n",
    "    - column (int): The index of the column to search.\n",
    "    - starting_row (int): The starting row index for the search.\n",
    "\n",
    "    Returns:\n",
    "    int: The index of the first non-zero value in the specified column, starting from the given row.\n",
    "                Returns -1 if no non-zero value is found.\n",
    "    \"\"\"\n",
    "    # Get the column array starting from the specified row\n",
    "    column_array = M[starting_row:,column]\n",
    "    for i, val in enumerate(column_array):\n",
    "        # Iterate over every value in the column array. \n",
    "        # To check for non-zero values, you must always use np.isclose instead of doing \"val == 0\".\n",
    "        if not np.isclose(val, 0, atol = 1e-5):\n",
    "            # If one non zero value is found, then adjust the index to match the correct index in the matrix and return it.\n",
    "            index = i + starting_row\n",
    "            return index\n",
    "    # If no non-zero value is found below it, return -1.\n",
    "    return -1"
   ]
  },
  {
   "cell_type": "code",
   "execution_count": 8,
   "id": "d9d48857-9725-45c0-9bb5-e9f1b14b9b8b",
   "metadata": {},
   "outputs": [
    {
     "name": "stdout",
     "output_type": "stream",
     "text": [
      "[[ 0  5 -3  6  8]\n",
      " [ 0  6  3  8  1]\n",
      " [ 0  0  0  0  0]\n",
      " [ 0  0  0  0  7]\n",
      " [ 0  2  1  0  4]]\n"
     ]
    }
   ],
   "source": [
    "# For example:\n",
    "N = np.array([\n",
    "[0, 5, -3 ,6 ,8],\n",
    "[0, 6, 3, 8, 1],\n",
    "[0, 0, 0, 0, 0],\n",
    "[0, 0, 0 ,0 ,7],\n",
    "[0, 2, 1, 0, 4]\n",
    "]\n",
    ")\n",
    "print(N)"
   ]
  },
  {
   "cell_type": "code",
   "execution_count": 9,
   "id": "5efe12ab-1fc5-4531-bb9f-e4c0c257f4b6",
   "metadata": {},
   "outputs": [
    {
     "name": "stdout",
     "output_type": "stream",
     "text": [
      "-1\n"
     ]
    }
   ],
   "source": [
    "print(get_index_first_non_zero_value_from_column(N, column = 0, starting_row = 0))"
   ]
  },
  {
   "cell_type": "code",
   "execution_count": 10,
   "id": "c6acb4f2-d7a5-4f7f-9cf6-b5b6f035c76b",
   "metadata": {},
   "outputs": [
    {
     "name": "stdout",
     "output_type": "stream",
     "text": [
      "3\n"
     ]
    }
   ],
   "source": [
    "print(get_index_first_non_zero_value_from_column(N, column = -1, starting_row = 2))"
   ]
  },
  {
   "cell_type": "markdown",
   "id": "df7ccb69-1cd0-4a45-89bc-99502ea8739e",
   "metadata": {},
   "source": [
    "Now lets find the first non zero element for any row. This function aids in locating the pivot within a designated row of a matrix. It identifies the index of the first non-zero element in the desired row. If no non-zero value is present, it returns -1."
   ]
  },
  {
   "cell_type": "code",
   "execution_count": 11,
   "id": "e243b18e-da6a-4029-ba3b-b9a7564a7667",
   "metadata": {},
   "outputs": [],
   "source": [
    "def get_index_first_non_zero_value_from_row(M, row, augmented = False):\n",
    "    \"\"\"\n",
    "    Find the index of the first non-zero value in the specified row of the given matrix.\n",
    "\n",
    "    Parameters:\n",
    "    - matrix (numpy.array): The input matrix to search for non-zero values.\n",
    "    - row (int): The index of the row to search.\n",
    "    - augmented (bool): Pass this True if you are dealing with an augmented matrix, \n",
    "                        so it will ignore the constant values (the last column in the augmented matrix).\n",
    "\n",
    "    Returns:\n",
    "    int: The index of the first non-zero value in the specified row.\n",
    "                Returns -1 if no non-zero value is found.\n",
    "    \"\"\"\n",
    "\n",
    "    # Create a copy to avoid modifying the original matrix\n",
    "    M = M.copy()\n",
    "\n",
    "\n",
    "    # If it is an augmented matrix, then ignore the constant values\n",
    "    if augmented == True:\n",
    "        # Isolating the coefficient matrix (removing the constant terms)\n",
    "        M = M[:,:-1]\n",
    "        \n",
    "    # Get the desired row\n",
    "    row_array = M[row]\n",
    "    for i, val in enumerate(row_array):\n",
    "        # If finds a non zero value, returns the index. Otherwise returns -1.\n",
    "        if not np.isclose(val, 0, atol = 1e-5):\n",
    "            return i\n",
    "    return -1"
   ]
  },
  {
   "cell_type": "code",
   "execution_count": 12,
   "id": "73360db8-39bf-494b-bbe6-a2408fee4ccc",
   "metadata": {},
   "outputs": [
    {
     "name": "stdout",
     "output_type": "stream",
     "text": [
      "[[ 0  5 -3  6  8]\n",
      " [ 0  6  3  8  1]\n",
      " [ 0  0  0  0  0]\n",
      " [ 0  0  0  0  7]\n",
      " [ 0  2  1  0  4]]\n"
     ]
    }
   ],
   "source": [
    "print(N)"
   ]
  },
  {
   "cell_type": "code",
   "execution_count": 13,
   "id": "f1842865-93bd-4533-8e05-20ffd09af207",
   "metadata": {},
   "outputs": [
    {
     "name": "stdout",
     "output_type": "stream",
     "text": [
      "Output for row 2: -1\n",
      "Output for row 3: 4\n"
     ]
    }
   ],
   "source": [
    "print(f'Output for row 2: {get_index_first_non_zero_value_from_row(N, 2)}')\n",
    "print(f'Output for row 3: {get_index_first_non_zero_value_from_row(N, 3)}')"
   ]
  },
  {
   "cell_type": "code",
   "execution_count": 16,
   "id": "abaa2785-7474-4ae4-8fa3-f654a29c17c9",
   "metadata": {},
   "outputs": [
    {
     "name": "stdout",
     "output_type": "stream",
     "text": [
      "Output for row 3: -1\n"
     ]
    }
   ],
   "source": [
    "# In the case of augmented matrix\n",
    "print(f'Output for row 3: {get_index_first_non_zero_value_from_row(N, 3, augmented = True)}')"
   ]
  },
  {
   "cell_type": "markdown",
   "id": "286b564a-7814-4518-b15a-93fdd2841efc",
   "metadata": {},
   "source": [
    "Let's construct the Augmented Matrix: This function constructs the augmented matrix by combining a square matrix of size 𝑛×𝑛, representing  𝑛 equations with 𝑛 variables each, with an 𝑛×1 matrix that denotes its constant values. The function concatenates both matrices to form the augmented matrix and returns the result."
   ]
  },
  {
   "cell_type": "code",
   "execution_count": 17,
   "id": "28fdb7d3-ced0-47cb-8dff-1b7578aa3615",
   "metadata": {},
   "outputs": [],
   "source": [
    "def augmented_matrix(A, B):\n",
    "    \"\"\"\n",
    "    Create an augmented matrix by horizontally stacking two matrices A and B.\n",
    "\n",
    "    Parameters:\n",
    "    - A (numpy.array): First matrix.\n",
    "    - B (numpy.array): Second matrix.\n",
    "\n",
    "    Returns:\n",
    "    - numpy.array: Augmented matrix obtained by horizontally stacking A and B.\n",
    "    \"\"\"\n",
    "    augmented_M = np.hstack((A,B))\n",
    "    return augmented_M"
   ]
  },
  {
   "cell_type": "code",
   "execution_count": 18,
   "id": "a95d68da-dcda-41f2-b44c-f077af91a19d",
   "metadata": {},
   "outputs": [
    {
     "name": "stdout",
     "output_type": "stream",
     "text": [
      "[[1 2 3 1]\n",
      " [3 4 5 5]\n",
      " [4 5 6 7]]\n"
     ]
    }
   ],
   "source": [
    "A = np.array([[1,2,3], [3,4,5], [4,5,6]])\n",
    "B = np.array([[1], [5], [7]])\n",
    "\n",
    "print(augmented_matrix(A,B))"
   ]
  },
  {
   "cell_type": "markdown",
   "id": "120c94e2-1bf3-4e81-9620-82e88efc405c",
   "metadata": {},
   "source": [
    "#### Row echelon form"
   ]
  },
  {
   "cell_type": "markdown",
   "id": "9ecdb89c-ed38-4ebe-bcde-666ac2a2c6d5",
   "metadata": {},
   "source": [
    "For a matrix to be in row echelon form,\n",
    "* Rows consisting entirely of zeroes should be positioned at the bottom.\n",
    "* Each non-zero row must have its left-most non-zero coefficient (termed as a pivot) located to the right of any row above it. Consequently, all elements below the pivot within the same column should be 0\n",
    "\n",
    "For this algorithm we will implement the elimination method to convert a matrix into row-echelon form and consider only non-singular system of equations, this implies that the coefficient matrix must have determinant different from 0. Also, it implies one very important property: the matrix's row echelon form will have all its pivots in the main diagonal. This is an important property because it will significantly simplify the computation.\n",
    "This form ensures a structured arrangement facilitating subsequent steps in the Gaussian elimination process."
   ]
  },
  {
   "cell_type": "code",
   "execution_count": 20,
   "id": "ffe3c7cc-26ec-4a18-a98f-324915a157fe",
   "metadata": {},
   "outputs": [],
   "source": [
    "def row_echelon_form(A, B):\n",
    "    \"\"\"\n",
    "    Utilizes elementary row operations to transform a given set of matrices, \n",
    "    which represent the coefficients and constant terms of a linear system, into row echelon form.\n",
    "\n",
    "    Parameters:\n",
    "    - A (numpy.array): The input square matrix of coefficients.\n",
    "    - B (numpy.array): The input column matrix of constant terms\n",
    "\n",
    "    Returns:\n",
    "    numpy.array: A new augmented matrix in row echelon form with pivots as 1.\n",
    "    \"\"\"\n",
    "    # The primary approach involves inspecting the values along the diagonal. If they equate to  0 an attempt to swap rows should be made to obtain a non-zero value.\n",
    "    # Before any computation, check if matrix A (coefficient matrix) has non-zero determinant. \n",
    "    # It will be used the numpy sub library np.linalg to compute it.\n",
    "\n",
    "    det_A = np.linalg.det(A)\n",
    "\n",
    "    # Returns \"Singular system\" if determinant is zero\n",
    "    if np.isclose(det_A, 0) == True:\n",
    "        return 'Singular system'\n",
    "\n",
    "    # Make copies of the input matrices to avoid modifying the originals\n",
    "    A = A.copy()\n",
    "    B = B.copy()\n",
    "\n",
    "\n",
    "    # Convert matrices to float to prevent integer division\n",
    "    A = A.astype('float64')\n",
    "    B = B.astype('float64')\n",
    "\n",
    "    # Number of rows in the coefficient matrix\n",
    "    num_rows = len(A) \n",
    "\n",
    "    # Transform matrices A and B into the augmented matrix M\n",
    "    M = augmented_matrix(A,B)\n",
    "    \n",
    "    # Iterate over the rows.\n",
    "    for row in range(num_rows):\n",
    "\n",
    "        # The first pivot candidate is always in the main diagonal, let's get it. \n",
    "        # Remember that the diagonal elements in a matrix has the same index for row and column. \n",
    "        # You may access a matrix value by typing M[row, column]. In this case, column = None\n",
    "        pivot_candidate = M[row, row]\n",
    "\n",
    "        # If pivot_candidate is zero, it cannot be a pivot for this row. \n",
    "        # So the first step you need to take is to look at the rows below it to check if there is a non-zero element in the same column.\n",
    "        # The usage of np.isclose is a good practice when comparing two floats.\n",
    "        if np.isclose(pivot_candidate, 0): \n",
    "            # Get the index of the first non-zero value below the pivot_candidate. \n",
    "            first_non_zero_value_below_pivot_candidate = get_index_first_non_zero_value_from_column(M, row, row)\n",
    "            \n",
    "            if first_non_zero_value_below_pivot_candidate != row:\n",
    "                M = swap_rows(M, row, first_non_zero_value_below_pivot_candidate)\n",
    "\n",
    "            # Swap rows\n",
    "            M = swap_rows(M, row, first_non_zero_value_below_pivot_candidate) \n",
    "\n",
    "            # Get the pivot, which is in the main diagonal now \n",
    "            pivot = M[row,row] \n",
    "        \n",
    "        # If pivot_candidate is already non-zero, then it is the pivot for this row\n",
    "        else:\n",
    "            pivot = pivot_candidate \n",
    "        \n",
    "        # Now you are ready to apply the row reduction in every row below the current\n",
    "            \n",
    "        # Divide the current row by the pivot, so the new pivot will be 1. You may use the formula current_row -> 1/pivot * current_row\n",
    "        # Where current_row can be accessed using M[row].\n",
    "        M[row] = M[row] / pivot\n",
    "\n",
    "        # Perform row reduction for rows below the current row\n",
    "        for j in range(row + 1, num_rows): \n",
    "            # Get the value in the row that is below the pivot value. \n",
    "            # Remember that, since you are dealing only with non-singular matrices, the pivot is in the main diagonal.\n",
    "            # Therefore, the values in row j that are below the pivot, must have column index the same index as the column index for the pivot.\n",
    "            value_below_pivot = M[j, row]\n",
    "            \n",
    "            # Perform row reduction using the formula:\n",
    "            # row_to_reduce -> row_to_reduce - value_below_pivot * pivot_row\n",
    "            M[j] = M[j] - value_below_pivot*M[row]\n",
    "\n",
    "    return M"
   ]
  },
  {
   "cell_type": "code",
   "execution_count": 21,
   "id": "80155846-88ac-4c9e-8cf4-e1739d030a31",
   "metadata": {},
   "outputs": [
    {
     "data": {
      "text/plain": [
       "array([[1. , 2. , 3. , 1. ],\n",
       "       [0. , 1. , 0. , 2. ],\n",
       "       [0. , 0. , 1. , 0.8]])"
      ]
     },
     "execution_count": 21,
     "metadata": {},
     "output_type": "execute_result"
    }
   ],
   "source": [
    "A = np.array([[1,2,3],[0,1,0], [0,0,5]])\n",
    "B = np.array([[1], [2], [4]])\n",
    "row_echelon_form(A,B)"
   ]
  },
  {
   "cell_type": "markdown",
   "id": "4c6c4bf8-b7b8-45d7-906f-11916c0c75cc",
   "metadata": {},
   "source": [
    "#### Back Substitution"
   ]
  },
  {
   "cell_type": "markdown",
   "id": "9f5175da-efd3-44ff-8177-2b62e272f676",
   "metadata": {},
   "source": [
    "The final step of the algorithm involves back substitution, a crucial process in obtaining solutions for the linear system. As discussed in the lectures, this method initiates from the bottom and moves upwards. Utilizing elementary row operations, it aims to convert every element above the pivot into zeros, ending with a matrix in reduced row echelon form. "
   ]
  },
  {
   "cell_type": "code",
   "execution_count": 22,
   "id": "0cab570d-7e4a-4df2-b3bb-c13b7400ff95",
   "metadata": {},
   "outputs": [],
   "source": [
    "def back_substitution(M):\n",
    "    \"\"\"\n",
    "    Perform back substitution on an augmented matrix (with unique solution) in reduced row echelon form to find the solution to the linear system.\n",
    "\n",
    "    Parameters:\n",
    "    - M (numpy.array): The augmented matrix in row echelon form with unitary pivots (n x n+1).\n",
    "\n",
    "    Returns:\n",
    "    numpy.array: The solution vector of the linear system.\n",
    "    \"\"\"\n",
    "    \n",
    "    # Make a copy of the input matrix to avoid modifying the original\n",
    "    M = M.copy()\n",
    "\n",
    "    # Get the number of rows (and columns) in the matrix of coefficients\n",
    "    num_rows = M.shape[0]\n",
    "\n",
    "    ### START CODE HERE ####\n",
    "    \n",
    "    # Iterate from bottom to top\n",
    "    for row in reversed(range(num_rows)): \n",
    "        substitution_row = M[row]\n",
    "\n",
    "        # Get the index of the first non-zero element in the substitution row. Remember to pass the correct value to the argument augmented.\n",
    "        index = np.where(substitution_row != 0)[0][0]\n",
    "\n",
    "        # Iterate over the rows above the substitution_row\n",
    "        for j in range(row): \n",
    "\n",
    "            # Get the row to be reduced. The indexing here is similar as above, with the row variable replaced by the j variable.\n",
    "            row_to_reduce = M[j]\n",
    "\n",
    "            # Get the value of the element at the found index in the row to reduce\n",
    "            value = row_to_reduce[index]\n",
    "            \n",
    "            # Perform the back substitution step using the formula row_to_reduce -> row_to_reduce - value * substitution_row\n",
    "            row_to_reduce = row_to_reduce - value * substitution_row\n",
    "\n",
    "            # Replace the updated row in the matrix, be careful with indexing!\n",
    "            M[j,:] = row_to_reduce\n",
    "\n",
    "    ### END CODE HERE ####\n",
    "\n",
    "     # Extract the solution from the last column\n",
    "    solution = M[:,-1]\n",
    "    \n",
    "    return solution"
   ]
  },
  {
   "cell_type": "markdown",
   "id": "8f8aa4fe-efec-49c1-9eae-dda206c5f84d",
   "metadata": {},
   "source": [
    "#### Gaussian Elimination"
   ]
  },
  {
   "cell_type": "markdown",
   "id": "1641f21d-aec5-42f4-8899-6cb7ecdff182",
   "metadata": {},
   "source": [
    "Now we integrate all the steps/functions achieved thus far to finish the Gaussian Elimination. Start with a square matrix 𝐴of size 𝑛×𝑛 and a column matrix 𝐵 of size 𝑛×1 and transform the augmented matrix [𝐴|𝐵] into reduced row echelon form. "
   ]
  },
  {
   "cell_type": "code",
   "execution_count": 23,
   "id": "1af8a0de-c555-48ad-98b7-429e0e2f1096",
   "metadata": {},
   "outputs": [],
   "source": [
    "def gaussian_elimination(A, B):\n",
    "    \"\"\"\n",
    "    Solve a linear system represented by an augmented matrix using the Gaussian elimination method.\n",
    "\n",
    "    Parameters:\n",
    "    - A (numpy.array): Square matrix of size n x n representing the coefficients of the linear system\n",
    "    - B (numpy.array): Column matrix of size 1 x n representing the constant terms.\n",
    "\n",
    "    Returns:\n",
    "    numpy.array or str: The solution vector if a unique solution exists, or a string indicating the type of solution.\n",
    "    \"\"\"\n",
    "\n",
    "    ### START CODE HERE ###\n",
    "\n",
    "    # Get the matrix in row echelon form\n",
    "    row_echelon_M = row_echelon_form(A, B)\n",
    "\n",
    "    # If the system is non-singular, then perform back substitution to get the result. \n",
    "    # Since the function row_echelon_form returns a string if there is no solution, let's check for that.\n",
    "    # The function isinstance checks if the first argument has the type as the second argument, returning True if it does and False otherwise.\n",
    "    if isinstance(row_echelon_M, str): \n",
    "        return row_echelon_M\n",
    "    \n",
    "    for row in row_echelon_M:\n",
    "        if np.all(row[:-1] == 0) and row[-1] != 0:\n",
    "            return \"No solution\"\n",
    "        \n",
    "    solution = back_substitution(row_echelon_M)\n",
    "    ### END SOLUTION HERE ###\n",
    "\n",
    "    return solution"
   ]
  }
 ],
 "metadata": {
  "kernelspec": {
   "display_name": "Python 3 (ipykernel)",
   "language": "python",
   "name": "python3"
  },
  "language_info": {
   "codemirror_mode": {
    "name": "ipython",
    "version": 3
   },
   "file_extension": ".py",
   "mimetype": "text/x-python",
   "name": "python",
   "nbconvert_exporter": "python",
   "pygments_lexer": "ipython3",
   "version": "3.12.7"
  }
 },
 "nbformat": 4,
 "nbformat_minor": 5
}
